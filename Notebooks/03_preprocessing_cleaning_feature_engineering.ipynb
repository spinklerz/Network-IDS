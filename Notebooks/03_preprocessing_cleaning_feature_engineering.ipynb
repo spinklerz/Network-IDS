{
  "nbformat": 4,
  "nbformat_minor": 0,
  "metadata": {
    "colab": {
      "provenance": []
    },
    "kernelspec": {
      "name": "python3",
      "display_name": "Python 3"
    },
    "language_info": {
      "name": "python"
    }
  },
  "cells": [
    {
      "cell_type": "code",
      "execution_count": 1,
      "metadata": {
        "colab": {
          "base_uri": "https://localhost:8080/"
        },
        "id": "TPH3uIA0V4p_",
        "outputId": "f7a4ae44-5216-4c27-ed9b-5599cb25c4cb"
      },
      "outputs": [
        {
          "output_type": "stream",
          "name": "stdout",
          "text": [
            "Mounted at /content/drive\n"
          ]
        }
      ],
      "source": [
        "# Mount Drive, Data is saved on my google drive account\n",
        "from google.colab import drive\n",
        "drive.mount('/content/drive')\n",
        "import pandas as pd\n",
        "import os\n",
        "\n",
        "# Initialize some colors\n",
        "R = \"\\033[91m\"  # Red text\n",
        "W = \"\\033[0m\"   # Reset to default\n",
        "G = \"\\033[92m\"  # Green text"
      ]
    },
    {
      "cell_type": "code",
      "source": [
        "# Initialize Root directory and path to pickle\n",
        "# Using visualzation data since dtypes are already configured\n",
        "PROJECT_ROOT = '/content/drive/MyDrive/IDS'\n",
        "PATH = os.path.join(PROJECT_ROOT, \"pkl\")\n",
        "DATA_PATH = os.path.join(PROJECT_ROOT, f'{PATH}/v_data.pkl')\n",
        "print(DATA_PATH)"
      ],
      "metadata": {
        "colab": {
          "base_uri": "https://localhost:8080/"
        },
        "id": "xiJfAABwYVCk",
        "outputId": "ab1cdba1-8c87-481d-a9bf-2a21df01a148"
      },
      "execution_count": 7,
      "outputs": [
        {
          "output_type": "stream",
          "name": "stdout",
          "text": [
            "/content/drive/MyDrive/IDS/pkl/v_data.pkl\n"
          ]
        }
      ]
    },
    {
      "cell_type": "code",
      "source": [
        "# Load Data\n",
        "try:\n",
        "  data = pd.read_pickle(DATA_PATH)\n",
        "  print(f'{G} Data Loaded! {W}')\n",
        "except:\n",
        "  print(f'{R} Data Not Found! {W}')\n",
        "data.info()"
      ],
      "metadata": {
        "colab": {
          "base_uri": "https://localhost:8080/"
        },
        "id": "6_f12hozYZVd",
        "outputId": "140d28d8-b22f-41ca-ba54-97e383bf8f38"
      },
      "execution_count": 9,
      "outputs": [
        {
          "output_type": "stream",
          "name": "stdout",
          "text": [
            "\u001b[92m Data Loaded! \u001b[0m\n",
            "<class 'pandas.core.frame.DataFrame'>\n",
            "RangeIndex: 589530 entries, 0 to 589529\n",
            "Data columns (total 21 columns):\n",
            " #   Column         Non-Null Count   Dtype                     \n",
            "---  ------         --------------   -----                     \n",
            " 0   ts             589530 non-null  datetime64[ns, US/Pacific]\n",
            " 1   uid            589530 non-null  object                    \n",
            " 2   src_ip         589530 non-null  object                    \n",
            " 3   src_p          589530 non-null  int64                     \n",
            " 4   dst_ip         589530 non-null  object                    \n",
            " 5   dst_p          589530 non-null  int64                     \n",
            " 6   proto          589530 non-null  object                    \n",
            " 7   service        589530 non-null  object                    \n",
            " 8   duration       530061 non-null  float64                   \n",
            " 9   src_bytes      530061 non-null  float64                   \n",
            " 10  dst_bytes      530061 non-null  float64                   \n",
            " 11  conn_state     589530 non-null  object                    \n",
            " 12  local_orig     589530 non-null  object                    \n",
            " 13  local_resp     589530 non-null  object                    \n",
            " 14  missed_bytes   589530 non-null  int64                     \n",
            " 15  history        589530 non-null  object                    \n",
            " 16  orig_pkts      589530 non-null  int64                     \n",
            " 17  orig_ip_bytes  589530 non-null  int64                     \n",
            " 18  resp_pkts      589530 non-null  int64                     \n",
            " 19  resp_ip_bytes  589530 non-null  int64                     \n",
            " 20  ip_proto       589530 non-null  int64                     \n",
            "dtypes: datetime64[ns, US/Pacific](1), float64(3), int64(8), object(9)\n",
            "memory usage: 94.5+ MB\n"
          ]
        }
      ]
    },
    {
      "cell_type": "markdown",
      "source": [
        "# Feature Engineering\n",
        "- we noticed in our EDA that orig_bytes and orig_pkts, etc.., where found highly corelatted thus to reduce the complexity of our model we will combine them\n"
      ],
      "metadata": {
        "id": "56eQjn4zXwjU"
      }
    },
    {
      "cell_type": "code",
      "source": [
        "\n"
      ],
      "metadata": {
        "id": "9Da5o41hWBOZ"
      },
      "execution_count": null,
      "outputs": []
    }
  ]
}